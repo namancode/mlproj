{
 "cells": [
  {
   "cell_type": "code",
   "execution_count": 1,
   "metadata": {},
   "outputs": [
    {
     "name": "stdout",
     "output_type": "stream",
     "text": [
      "tensor([[[ 1.0771],\n",
      "         [-2.0123]],\n",
      "\n",
      "        [[ 1.4935],\n",
      "         [ 0.5474]]]) torch.Size([2, 2, 1])\n"
     ]
    }
   ],
   "source": [
    "import torch\n",
    "ten = torch.randn((2, 2, 1))\n",
    "print(ten, ten.shape)"
   ]
  },
  {
   "cell_type": "code",
   "execution_count": 3,
   "metadata": {},
   "outputs": [
    {
     "name": "stdout",
     "output_type": "stream",
     "text": [
      "tensor([[ 1.0771, -2.0123],\n",
      "        [ 1.4935,  0.5474]]) torch.Size([2, 2])\n"
     ]
    }
   ],
   "source": [
    "ten = ten.squeeze(2)\n",
    "print(ten, ten.shape)"
   ]
  }
 ],
 "metadata": {
  "interpreter": {
   "hash": "c599533d742d43353cef42a7202dbc787b718fe549c3e3608b19badfb5f66f73"
  },
  "kernelspec": {
   "display_name": "Python 3.9.9 64-bit",
   "language": "python",
   "name": "python3"
  },
  "language_info": {
   "codemirror_mode": {
    "name": "ipython",
    "version": 3
   },
   "file_extension": ".py",
   "mimetype": "text/x-python",
   "name": "python",
   "nbconvert_exporter": "python",
   "pygments_lexer": "ipython3",
   "version": "3.9.9"
  },
  "orig_nbformat": 4
 },
 "nbformat": 4,
 "nbformat_minor": 2
}
